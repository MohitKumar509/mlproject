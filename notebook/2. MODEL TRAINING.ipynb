{
 "cells": [
  {
   "cell_type": "markdown",
   "id": "52089a9e",
   "metadata": {
    "papermill": {
     "duration": 0.045661,
     "end_time": "2023-12-08T19:45:00.373992",
     "exception": false,
     "start_time": "2023-12-08T19:45:00.328331",
     "status": "completed"
    },
    "tags": []
   },
   "source": [
    "# Model Training"
   ]
  },
  {
   "cell_type": "code",
   "execution_count": null,
   "id": "831870d4",
   "metadata": {
    "execution": {
     "iopub.execute_input": "2023-12-08T19:45:00.466522Z",
     "iopub.status.busy": "2023-12-08T19:45:00.466073Z",
     "iopub.status.idle": "2023-12-08T19:45:01.460899Z",
     "shell.execute_reply": "2023-12-08T19:45:01.459702Z"
    },
    "papermill": {
     "duration": 1.044673,
     "end_time": "2023-12-08T19:45:01.463778",
     "exception": false,
     "start_time": "2023-12-08T19:45:00.419105",
     "status": "completed"
    },
    "tags": []
   },
   "outputs": [],
   "source": [
    "import pandas as pd\n",
    "import numpy as np\n",
    "import matplotlib.pyplot as plt\n",
    "import seaborn as sns\n",
    "\n",
    "# Modeling\n",
    "\n",
    "from sklearn.metrics import r2_score,mean_squared_error,mean_absolute_error\n",
    "from sklearn.neighbors import KNeighborsRegressor\n",
    "from sklearn.tree import DecisionTreeRegressor\n",
    "from sklearn.ensemble import AdaBoostRegressor,RandomForestRegressor\n",
    "from sklearn.svm import SVR\n",
    "from sklearn.linear_model import LinearRegression,Ridge,Lasso\n",
    "from sklearn.model_selection import RandomizedSearchCV\n",
    "from xgboost import XGBRegressor\n",
    "from catboost import CatBoostRegressor\n",
    "import warnings"
   ]
  },
  {
   "cell_type": "markdown",
   "id": "5945361c",
   "metadata": {},
   "source": [
    "Import the CSV Data as Pandas DataFrame"
   ]
  },
  {
   "cell_type": "code",
   "execution_count": 54,
   "id": "fe406a87",
   "metadata": {
    "execution": {
     "iopub.execute_input": "2023-12-08T19:45:01.559356Z",
     "iopub.status.busy": "2023-12-08T19:45:01.558602Z",
     "iopub.status.idle": "2023-12-08T19:45:01.574818Z",
     "shell.execute_reply": "2023-12-08T19:45:01.573691Z"
    },
    "papermill": {
     "duration": 0.06612,
     "end_time": "2023-12-08T19:45:01.576989",
     "exception": false,
     "start_time": "2023-12-08T19:45:01.510869",
     "status": "completed"
    },
    "tags": []
   },
   "outputs": [],
   "source": [
    "data=pd.read_csv('data/stud.csv')"
   ]
  },
  {
   "cell_type": "markdown",
   "id": "958a4076",
   "metadata": {},
   "source": [
    "Show Top 5 Records"
   ]
  },
  {
   "cell_type": "code",
   "execution_count": 55,
   "id": "a353824d",
   "metadata": {
    "execution": {
     "iopub.execute_input": "2023-12-08T19:45:01.672708Z",
     "iopub.status.busy": "2023-12-08T19:45:01.671903Z",
     "iopub.status.idle": "2023-12-08T19:45:01.677869Z",
     "shell.execute_reply": "2023-12-08T19:45:01.677058Z"
    },
    "papermill": {
     "duration": 0.05669,
     "end_time": "2023-12-08T19:45:01.679983",
     "exception": false,
     "start_time": "2023-12-08T19:45:01.623293",
     "status": "completed"
    },
    "tags": []
   },
   "outputs": [
    {
     "data": {
      "text/plain": [
       "(302, 8)"
      ]
     },
     "execution_count": 55,
     "metadata": {},
     "output_type": "execute_result"
    }
   ],
   "source": [
    "data.shape"
   ]
  },
  {
   "cell_type": "code",
   "execution_count": 56,
   "id": "f533d796",
   "metadata": {
    "execution": {
     "iopub.execute_input": "2023-12-08T19:45:01.774884Z",
     "iopub.status.busy": "2023-12-08T19:45:01.774096Z",
     "iopub.status.idle": "2023-12-08T19:45:01.779720Z",
     "shell.execute_reply": "2023-12-08T19:45:01.778848Z"
    },
    "papermill": {
     "duration": 0.055901,
     "end_time": "2023-12-08T19:45:01.782063",
     "exception": false,
     "start_time": "2023-12-08T19:45:01.726162",
     "status": "completed"
    },
    "tags": []
   },
   "outputs": [],
   "source": [
    "x=data.drop(columns=['math_score'],axis=1)"
   ]
  },
  {
   "cell_type": "code",
   "execution_count": 57,
   "id": "c2667ba7",
   "metadata": {
    "execution": {
     "iopub.execute_input": "2023-12-08T19:45:01.879088Z",
     "iopub.status.busy": "2023-12-08T19:45:01.878051Z",
     "iopub.status.idle": "2023-12-08T19:45:01.892233Z",
     "shell.execute_reply": "2023-12-08T19:45:01.891058Z"
    },
    "papermill": {
     "duration": 0.066161,
     "end_time": "2023-12-08T19:45:01.894646",
     "exception": false,
     "start_time": "2023-12-08T19:45:01.828485",
     "status": "completed"
    },
    "tags": []
   },
   "outputs": [
    {
     "data": {
      "text/html": [
       "<div>\n",
       "<style scoped>\n",
       "    .dataframe tbody tr th:only-of-type {\n",
       "        vertical-align: middle;\n",
       "    }\n",
       "\n",
       "    .dataframe tbody tr th {\n",
       "        vertical-align: top;\n",
       "    }\n",
       "\n",
       "    .dataframe thead th {\n",
       "        text-align: right;\n",
       "    }\n",
       "</style>\n",
       "<table border=\"1\" class=\"dataframe\">\n",
       "  <thead>\n",
       "    <tr style=\"text-align: right;\">\n",
       "      <th></th>\n",
       "      <th>gender</th>\n",
       "      <th>race_ethnicity</th>\n",
       "      <th>parental_level_of_education</th>\n",
       "      <th>lunch</th>\n",
       "      <th>test_preparation_course</th>\n",
       "      <th>reading_score</th>\n",
       "      <th>writing_score</th>\n",
       "    </tr>\n",
       "  </thead>\n",
       "  <tbody>\n",
       "    <tr>\n",
       "      <th>0</th>\n",
       "      <td>male</td>\n",
       "      <td>group E</td>\n",
       "      <td>bachelor's degree</td>\n",
       "      <td>standard</td>\n",
       "      <td>none</td>\n",
       "      <td>51.0</td>\n",
       "      <td>45.0</td>\n",
       "    </tr>\n",
       "    <tr>\n",
       "      <th>1</th>\n",
       "      <td>female</td>\n",
       "      <td>group D</td>\n",
       "      <td>some high school</td>\n",
       "      <td>standard</td>\n",
       "      <td>completed</td>\n",
       "      <td>50.0</td>\n",
       "      <td>76.0</td>\n",
       "    </tr>\n",
       "    <tr>\n",
       "      <th>2</th>\n",
       "      <td>female</td>\n",
       "      <td>group D</td>\n",
       "      <td>associate's degree</td>\n",
       "      <td>free/reduced</td>\n",
       "      <td>none</td>\n",
       "      <td>85.0</td>\n",
       "      <td>81.0</td>\n",
       "    </tr>\n",
       "    <tr>\n",
       "      <th>3</th>\n",
       "      <td>female</td>\n",
       "      <td>group A</td>\n",
       "      <td>associate's degree</td>\n",
       "      <td>standard</td>\n",
       "      <td>none</td>\n",
       "      <td>82.0</td>\n",
       "      <td>76.0</td>\n",
       "    </tr>\n",
       "    <tr>\n",
       "      <th>4</th>\n",
       "      <td>female</td>\n",
       "      <td>group B</td>\n",
       "      <td>associate's degree</td>\n",
       "      <td>standard</td>\n",
       "      <td>completed</td>\n",
       "      <td>99.0</td>\n",
       "      <td>43.0</td>\n",
       "    </tr>\n",
       "  </tbody>\n",
       "</table>\n",
       "</div>"
      ],
      "text/plain": [
       "   gender race_ethnicity parental_level_of_education         lunch  \\\n",
       "0    male        group E           bachelor's degree      standard   \n",
       "1  female        group D            some high school      standard   \n",
       "2  female        group D          associate's degree  free/reduced   \n",
       "3  female        group A          associate's degree      standard   \n",
       "4  female        group B          associate's degree      standard   \n",
       "\n",
       "  test_preparation_course  reading_score  writing_score  \n",
       "0                    none           51.0           45.0  \n",
       "1               completed           50.0           76.0  \n",
       "2                    none           85.0           81.0  \n",
       "3                    none           82.0           76.0  \n",
       "4               completed           99.0           43.0  "
      ]
     },
     "execution_count": 57,
     "metadata": {},
     "output_type": "execute_result"
    }
   ],
   "source": [
    "x.head(5)"
   ]
  },
  {
   "cell_type": "code",
   "execution_count": 58,
   "id": "33a2e480",
   "metadata": {
    "execution": {
     "iopub.execute_input": "2023-12-08T19:45:01.992547Z",
     "iopub.status.busy": "2023-12-08T19:45:01.991757Z",
     "iopub.status.idle": "2023-12-08T19:45:01.996414Z",
     "shell.execute_reply": "2023-12-08T19:45:01.995583Z"
    },
    "papermill": {
     "duration": 0.056505,
     "end_time": "2023-12-08T19:45:01.998495",
     "exception": false,
     "start_time": "2023-12-08T19:45:01.941990",
     "status": "completed"
    },
    "tags": []
   },
   "outputs": [],
   "source": [
    "y=data['math_score']"
   ]
  },
  {
   "cell_type": "code",
   "execution_count": 59,
   "id": "e3130efb",
   "metadata": {
    "execution": {
     "iopub.execute_input": "2023-12-08T19:45:02.094526Z",
     "iopub.status.busy": "2023-12-08T19:45:02.093686Z",
     "iopub.status.idle": "2023-12-08T19:45:02.101653Z",
     "shell.execute_reply": "2023-12-08T19:45:02.100048Z"
    },
    "papermill": {
     "duration": 0.059542,
     "end_time": "2023-12-08T19:45:02.104301",
     "exception": false,
     "start_time": "2023-12-08T19:45:02.044759",
     "status": "completed"
    },
    "tags": []
   },
   "outputs": [
    {
     "name": "stdout",
     "output_type": "stream",
     "text": [
      "0      97.0\n",
      "1      49.0\n",
      "2      87.0\n",
      "3      57.0\n",
      "4      96.0\n",
      "       ... \n",
      "297    73.0\n",
      "298    97.0\n",
      "299    98.0\n",
      "300     NaN\n",
      "301     NaN\n",
      "Name: math_score, Length: 302, dtype: float64\n"
     ]
    }
   ],
   "source": [
    "print(y)"
   ]
  },
  {
   "cell_type": "markdown",
   "id": "06d26023",
   "metadata": {
    "papermill": {
     "duration": 0.047073,
     "end_time": "2023-12-08T19:45:02.198374",
     "exception": false,
     "start_time": "2023-12-08T19:45:02.151301",
     "status": "completed"
    },
    "tags": []
   },
   "source": [
    "# Create a Column Transformer with 3 Types of transformers."
   ]
  },
  {
   "cell_type": "code",
   "execution_count": 60,
   "id": "57e437be",
   "metadata": {
    "execution": {
     "iopub.execute_input": "2023-12-08T19:45:02.296034Z",
     "iopub.status.busy": "2023-12-08T19:45:02.294666Z",
     "iopub.status.idle": "2023-12-08T19:45:02.312570Z",
     "shell.execute_reply": "2023-12-08T19:45:02.311563Z"
    },
    "papermill": {
     "duration": 0.070476,
     "end_time": "2023-12-08T19:45:02.315266",
     "exception": false,
     "start_time": "2023-12-08T19:45:02.244790",
     "status": "completed"
    },
    "tags": []
   },
   "outputs": [],
   "source": [
    "# 1. Make sure x is still a DataFrame here\n",
    "numerical_features = x.select_dtypes(exclude=\"object\").columns\n",
    "categorical_features = x.select_dtypes(include=\"object\").columns\n",
    "\n",
    "from sklearn.preprocessing import StandardScaler, OneHotEncoder\n",
    "from sklearn.compose import ColumnTransformer\n",
    "\n",
    "# 2. Define transformers\n",
    "numerical_transformer = StandardScaler()\n",
    "OH_transformer = OneHotEncoder(handle_unknown='ignore')\n",
    "\n",
    "# 3. Build column transformer\n",
    "preprocessor = ColumnTransformer(\n",
    "    transformers=[\n",
    "        (\"OneHotEncoder\", OH_transformer, categorical_features),\n",
    "        (\"StandardScaler\", numerical_transformer, numerical_features),\n",
    "    ]\n",
    ")\n",
    "\n",
    "# 4. Transform data\n",
    "x_transformed = preprocessor.fit_transform(x)  # Now it's a NumPy array or csr_matrix\n"
   ]
  },
  {
   "cell_type": "code",
   "execution_count": 61,
   "id": "6d0afc76",
   "metadata": {
    "execution": {
     "iopub.execute_input": "2023-12-08T19:45:02.409826Z",
     "iopub.status.busy": "2023-12-08T19:45:02.409374Z",
     "iopub.status.idle": "2023-12-08T19:45:02.428986Z",
     "shell.execute_reply": "2023-12-08T19:45:02.427959Z"
    },
    "papermill": {
     "duration": 0.069788,
     "end_time": "2023-12-08T19:45:02.431502",
     "exception": false,
     "start_time": "2023-12-08T19:45:02.361714",
     "status": "completed"
    },
    "tags": []
   },
   "outputs": [],
   "source": [
    "x=preproccesor.fit_transform(x)"
   ]
  },
  {
   "cell_type": "code",
   "execution_count": 62,
   "id": "fb2877b5",
   "metadata": {
    "execution": {
     "iopub.execute_input": "2023-12-08T19:45:02.527504Z",
     "iopub.status.busy": "2023-12-08T19:45:02.527035Z",
     "iopub.status.idle": "2023-12-08T19:45:02.534148Z",
     "shell.execute_reply": "2023-12-08T19:45:02.533051Z"
    },
    "papermill": {
     "duration": 0.058815,
     "end_time": "2023-12-08T19:45:02.536671",
     "exception": false,
     "start_time": "2023-12-08T19:45:02.477856",
     "status": "completed"
    },
    "tags": []
   },
   "outputs": [
    {
     "data": {
      "text/plain": [
       "(302, 25)"
      ]
     },
     "execution_count": 62,
     "metadata": {},
     "output_type": "execute_result"
    }
   ],
   "source": [
    "x.shape"
   ]
  },
  {
   "cell_type": "raw",
   "id": "6324ef45",
   "metadata": {
    "papermill": {
     "duration": 0.046589,
     "end_time": "2023-12-08T19:45:02.631007",
     "exception": false,
     "start_time": "2023-12-08T19:45:02.584418",
     "status": "completed"
    },
    "tags": []
   },
   "source": [
    "Splitting the data into train and test"
   ]
  },
  {
   "cell_type": "code",
   "execution_count": 65,
   "id": "98a78d24",
   "metadata": {
    "execution": {
     "iopub.execute_input": "2023-12-08T19:45:02.727894Z",
     "iopub.status.busy": "2023-12-08T19:45:02.727451Z",
     "iopub.status.idle": "2023-12-08T19:45:02.735147Z",
     "shell.execute_reply": "2023-12-08T19:45:02.734162Z"
    },
    "papermill": {
     "duration": 0.059622,
     "end_time": "2023-12-08T19:45:02.737514",
     "exception": false,
     "start_time": "2023-12-08T19:45:02.677892",
     "status": "completed"
    },
    "tags": []
   },
   "outputs": [
    {
     "data": {
      "text/plain": [
       "((211, 25), (91, 25))"
      ]
     },
     "execution_count": 65,
     "metadata": {},
     "output_type": "execute_result"
    }
   ],
   "source": [
    "from sklearn.model_selection import train_test_split\n",
    "\n",
    "x_train,x_test,y_train,y_test=train_test_split(x,y,test_size=0.3,random_state=42)\n",
    "\n",
    "x_train.shape, x_test.shape\n"
   ]
  },
  {
   "cell_type": "code",
   "execution_count": 64,
   "id": "63c97469",
   "metadata": {
    "execution": {
     "iopub.execute_input": "2023-12-08T19:45:02.837001Z",
     "iopub.status.busy": "2023-12-08T19:45:02.835692Z",
     "iopub.status.idle": "2023-12-08T19:45:02.842467Z",
     "shell.execute_reply": "2023-12-08T19:45:02.841193Z"
    },
    "papermill": {
     "duration": 0.059069,
     "end_time": "2023-12-08T19:45:02.844915",
     "exception": false,
     "start_time": "2023-12-08T19:45:02.785846",
     "status": "completed"
    },
    "tags": []
   },
   "outputs": [
    {
     "name": "stdout",
     "output_type": "stream",
     "text": [
      "(211, 25)\n",
      "(91, 25)\n"
     ]
    }
   ],
   "source": [
    "print(x_train.shape)\n",
    "print(x_test.shape)"
   ]
  },
  {
   "cell_type": "raw",
   "id": "8da2ac04",
   "metadata": {
    "papermill": {
     "duration": 0.046064,
     "end_time": "2023-12-08T19:45:02.937546",
     "exception": false,
     "start_time": "2023-12-08T19:45:02.891482",
     "status": "completed"
    },
    "tags": [],
    "vscode": {
     "languageId": "raw"
    }
   },
   "source": [
    "Creating a Evaluate function to give all metrics after training the model"
   ]
  },
  {
   "cell_type": "code",
   "execution_count": 68,
   "id": "2d001e7c",
   "metadata": {
    "execution": {
     "iopub.execute_input": "2023-12-08T19:45:03.033525Z",
     "iopub.status.busy": "2023-12-08T19:45:03.033126Z",
     "iopub.status.idle": "2023-12-08T19:45:03.039151Z",
     "shell.execute_reply": "2023-12-08T19:45:03.038252Z"
    },
    "papermill": {
     "duration": 0.056974,
     "end_time": "2023-12-08T19:45:03.041489",
     "exception": false,
     "start_time": "2023-12-08T19:45:02.984515",
     "status": "completed"
    },
    "tags": []
   },
   "outputs": [],
   "source": [
    "def evaluate_model(true,predicted):\n",
    "    mae=mean_absolute_error(true,predicted)\n",
    "    mse=mean_squared_error(true,predicted)\n",
    "    rmse=np.sqrt(mean_squared_error(true,predicted))\n",
    "    r2=r2_score(true,predicted)\n",
    "    return mae,rmse,r2"
   ]
  },
  {
   "cell_type": "code",
   "execution_count": null,
   "id": "446bd66f",
   "metadata": {},
   "outputs": [],
   "source": [
    "models = {\n",
    "    \"Linear Regression\": LinearRegression(),\n",
    "    \"Ridge Regression\": Ridge(),\n",
    "    \"Lasso Regression\": Lasso(),\n",
    "    \"K-Neighbors Regressor\": KNeighborsRegressor(),\n",
    "    \"XGBoost Regressor\": XGBRegressor(),\n",
    "    \"Catboost Regressor\": CatBoostRegressor(verbose=False),\n",
    "    \"Random Forest Regressor\": RandomForestRegressor(),\n",
    "    \"AdaBoost Regressor\": AdaBoostRegressor(),\n",
    "    \"Decision Tree Regressor\": DecisionTreeRegressor()\n",
    "}\n",
    "\n",
    "model_list=[]\n",
    "r2_list=[]\n",
    "\n",
    "for i in range(len(list(models))):\n",
    "    model=list(models.values())[i]\n",
    "    model.fit(x_train,y_train)    # Train Model\n",
    "    \n",
    "    #Make predictions\n",
    "    \n",
    "    y_train_pred=model.predict(x_train)\n",
    "    y_test_pred=model.predict(x_test)\n",
    "    \n",
    "    # Evaluate Train and Test dataset\n",
    "    model_train_mae , model_train_rmse, model_train_r2 = evaluate_model(y_train, y_train_pred)\n",
    "\n",
    "    model_test_mae , model_test_rmse, model_test_r2 = evaluate_model(y_test, y_test_pred)\n",
    "\n",
    "    \n",
    "    print(list(models.keys())[i])\n",
    "    model_list.append(list(models.keys())[i])\n",
    "    \n",
    "    print('Model performance for Training set')\n",
    "    print(\"- Root Mean Squared Error: {:.4f}\".format(model_train_rmse))\n",
    "    print(\"- Mean Absolute Error: {:.4f}\".format(model_train_mae))\n",
    "    print(\"- R2 Score: {:.4f}\".format(model_train_r2))\n",
    "\n",
    "    print('----------------------------------')\n",
    "    \n",
    "    print('Model performance for Test set')\n",
    "    print(\"- Root Mean Squared Error: {:.4f}\".format(model_test_rmse))\n",
    "    print(\"- Mean Absolute Error: {:.4f}\".format(model_test_mae))\n",
    "    print(\"- R2 Score: {:.4f}\".format(model_test_r2))\n",
    "    r2_list.append(model_test_r2)\n",
    "    \n",
    "    print('='*35)\n",
    "    print('\\n')"
   ]
  },
  {
   "cell_type": "code",
   "execution_count": 70,
   "id": "0dd5fb4c",
   "metadata": {},
   "outputs": [],
   "source": [
    "from sklearn.impute import SimpleImputer\n",
    "\n",
    "imputer = SimpleImputer(strategy=\"mean\")  # or \"median\", \"most_frequent\"\n",
    "x_train = imputer.fit_transform(x_train)\n",
    "x_test = imputer.transform(x_test)\n"
   ]
  },
  {
   "cell_type": "markdown",
   "id": "5a5c79b4",
   "metadata": {
    "papermill": {
     "duration": 0.046911,
     "end_time": "2023-12-08T19:45:05.428660",
     "exception": false,
     "start_time": "2023-12-08T19:45:05.381749",
     "status": "completed"
    },
    "tags": []
   },
   "source": [
    "# Results"
   ]
  },
  {
   "cell_type": "code",
   "execution_count": 79,
   "id": "39c84b49",
   "metadata": {
    "execution": {
     "iopub.execute_input": "2023-12-08T19:45:05.524608Z",
     "iopub.status.busy": "2023-12-08T19:45:05.523888Z",
     "iopub.status.idle": "2023-12-08T19:45:05.537659Z",
     "shell.execute_reply": "2023-12-08T19:45:05.536446Z"
    },
    "papermill": {
     "duration": 0.064588,
     "end_time": "2023-12-08T19:45:05.540108",
     "exception": false,
     "start_time": "2023-12-08T19:45:05.475520",
     "status": "completed"
    },
    "tags": []
   },
   "outputs": [
    {
     "data": {
      "text/html": [
       "<div>\n",
       "<style scoped>\n",
       "    .dataframe tbody tr th:only-of-type {\n",
       "        vertical-align: middle;\n",
       "    }\n",
       "\n",
       "    .dataframe tbody tr th {\n",
       "        vertical-align: top;\n",
       "    }\n",
       "\n",
       "    .dataframe thead th {\n",
       "        text-align: right;\n",
       "    }\n",
       "</style>\n",
       "<table border=\"1\" class=\"dataframe\">\n",
       "  <thead>\n",
       "    <tr style=\"text-align: right;\">\n",
       "      <th></th>\n",
       "      <th>Model Name</th>\n",
       "      <th>R2_Score</th>\n",
       "    </tr>\n",
       "  </thead>\n",
       "  <tbody>\n",
       "  </tbody>\n",
       "</table>\n",
       "</div>"
      ],
      "text/plain": [
       "Empty DataFrame\n",
       "Columns: [Model Name, R2_Score]\n",
       "Index: []"
      ]
     },
     "execution_count": 79,
     "metadata": {},
     "output_type": "execute_result"
    }
   ],
   "source": [
    "pd.DataFrame(list(zip(model_list,r2_list)),columns=['Model Name','R2_Score']).sort_values(by=['R2_Score'],ascending=False)"
   ]
  },
  {
   "cell_type": "markdown",
   "id": "9d67776b",
   "metadata": {
    "papermill": {
     "duration": 0.047014,
     "end_time": "2023-12-08T19:45:05.634050",
     "exception": false,
     "start_time": "2023-12-08T19:45:05.587036",
     "status": "completed"
    },
    "tags": []
   },
   "source": [
    "# K Neighbors Regressor"
   ]
  },
  {
   "cell_type": "code",
   "execution_count": null,
   "id": "78fbd4f3",
   "metadata": {},
   "outputs": [],
   "source": [
    "K_model=KNeighborsRegressor()\n",
    "K_model=K_model.fit(x_train,y_train)\n",
    "y_pred=K_model.predict(x_test)\n",
    "score=r2_score(y_test,y_pred)*100\n",
    "\n",
    "print(\"Accuracy for the model = {:.2f}\".format(score))"
   ]
  },
  {
   "cell_type": "code",
   "execution_count": null,
   "id": "fce099c8",
   "metadata": {},
   "outputs": [],
   "source": [
    "plt.scatter(y_test,y_pred)\n",
    "plt.xlabel('Actual')\n",
    "plt.ylabel('Predicted')"
   ]
  },
  {
   "cell_type": "code",
   "execution_count": 44,
   "id": "469bf1b0",
   "metadata": {
    "execution": {
     "iopub.execute_input": "2023-12-08T19:45:06.444858Z",
     "iopub.status.busy": "2023-12-08T19:45:06.444418Z",
     "iopub.status.idle": "2023-12-08T19:45:06.886499Z",
     "shell.execute_reply": "2023-12-08T19:45:06.885577Z"
    },
    "papermill": {
     "duration": 0.49636,
     "end_time": "2023-12-08T19:45:06.889323",
     "exception": false,
     "start_time": "2023-12-08T19:45:06.392963",
     "status": "completed"
    },
    "tags": []
   },
   "outputs": [
    {
     "data": {
      "image/png": "[encoded data removed]",
      "text/plain": [
       "<Figure size 2500x1200 with 1 Axes>"
      ]
     },
     "metadata": {},
     "output_type": "display_data"
    }
   ],
   "source": [
    "sns.regplot(x=y_test,y=y_pred,ci=None,color ='red');"
   ]
  },
  {
   "cell_type": "markdown",
   "id": "08596983",
   "metadata": {
    "papermill": {
     "duration": 0.049774,
     "end_time": "2023-12-08T19:45:06.989834",
     "exception": false,
     "start_time": "2023-12-08T19:45:06.940060",
     "status": "completed"
    },
    "tags": []
   },
   "source": [
    "# Difference between Actual and Predicted Values"
   ]
  },
  {
   "cell_type": "code",
   "execution_count": null,
   "id": "f9b2db05",
   "metadata": {},
   "outputs": [],
   "source": [
    "pred_df=pd.DataFrame({'Actual Value':y_test,'Predicted Value':y_pred,'Difference':y_test-y_pred})\n",
    "pred_df"
   ]
  },
  {
   "cell_type": "code",
   "execution_count": null,
   "id": "a9a71a40",
   "metadata": {},
   "outputs": [],
   "source": []
  }
 ],
 "metadata": {
  "kaggle": {
   "accelerator": "none",
   "dataSources": [
    {
     "datasetId": 4133307,
     "sourceId": 7156957,
     "sourceType": "datasetVersion"
    }
   ],
   "dockerImageVersionId": 30615,
   "isGpuEnabled": false,
   "isInternetEnabled": true,
   "language": "python",
   "sourceType": "notebook"
  },
  "kernelspec": {
   "display_name": "Python 3",
   "language": "python",
   "name": "python3"
  },
  "language_info": {
   "codemirror_mode": {
    "name": "ipython",
    "version": 3
   },
   "file_extension": ".py",
   "mimetype": "text/x-python",
   "name": "python",
   "nbconvert_exporter": "python",
   "pygments_lexer": "ipython3",
   "version": "3.10.18"
  },
  "papermill": {
   "default_parameters": {},
   "duration": 39.816974,
   "end_time": "2023-12-08T19:45:08.293685",
   "environment_variables": {},
   "exception": null,
   "input_path": "__notebook__.ipynb",
   "output_path": "__notebook__.ipynb",
   "parameters": {},
   "start_time": "2023-12-08T19:44:28.476711",
   "version": "2.4.0"
  }
 },
 "nbformat": 4,
 "nbformat_minor": 5
}
